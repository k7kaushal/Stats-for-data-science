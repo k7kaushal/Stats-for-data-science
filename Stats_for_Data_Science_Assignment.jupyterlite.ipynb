{
  "metadata": {
    "kernelspec": {
      "name": "python",
      "display_name": "Python (Pyodide)",
      "language": "python"
    },
    "language_info": {
      "codemirror_mode": {
        "name": "python",
        "version": 3
      },
      "file_extension": ".py",
      "mimetype": "text/x-python",
      "name": "python",
      "nbconvert_exporter": "python",
      "pygments_lexer": "ipython3",
      "version": "3.8"
    }
  },
  "nbformat_minor": 4,
  "nbformat": 4,
  "cells": [
    {
      "cell_type": "markdown",
      "source": "<p style=\"text-align:center\">\n    <a href=\"https://skills.network/?utm_medium=Exinfluencer&utm_source=Exinfluencer&utm_content=000026UJ&utm_term=10006555&utm_id=NA-SkillsNetwork-Channel-SkillsNetworkCoursesIBMDeveloperSkillsNetworkST0151ENSkillsNetwork20531532-2022-01-01\" target=\"_blank\">\n    <img src=\"https://cf-courses-data.s3.us.cloud-object-storage.appdomain.cloud/assets/logos/SN_web_lightmode.png\" width=\"200\" alt=\"Skills Network Logo\"  />\n    </a>\n</p>\n\n",
      "metadata": {}
    },
    {
      "cell_type": "markdown",
      "source": "#### Import the required libraries we need for the lab.\n",
      "metadata": {}
    },
    {
      "cell_type": "code",
      "source": "import piplite\nawait piplite.install(['numpy'],['pandas'])\nawait piplite.install(['seaborn'])",
      "metadata": {
        "trusted": true
      },
      "outputs": [],
      "execution_count": 1
    },
    {
      "cell_type": "code",
      "source": "import pandas as pd\nimport pandas as pd\nimport seaborn as sns\nimport matplotlib.pyplot as plt\nimport scipy.stats\nimport statsmodels.api as sm\nfrom statsmodels.formula.api import ols",
      "metadata": {
        "trusted": true
      },
      "outputs": [
        {
          "name": "stderr",
          "text": "<ipython-input-2-975bf9c6861f>:1: DeprecationWarning: \nPyarrow will become a required dependency of pandas in the next major release of pandas (pandas 3.0),\n(to allow more performant data types, such as the Arrow string type, and better interoperability with other libraries)\nbut was not found to be installed on your system.\nIf this would cause problems for you,\nplease provide us feedback at https://github.com/pandas-dev/pandas/issues/54466\n        \n  import pandas as pd\n",
          "output_type": "stream"
        }
      ],
      "execution_count": null
    },
    {
      "cell_type": "markdown",
      "source": "#### Read the dataset in the csv file from the URL\n",
      "metadata": {}
    },
    {
      "cell_type": "code",
      "source": "from js import fetch\nimport io\n\nURL = 'https://cf-courses-data.s3.us.cloud-object-storage.appdomain.cloud/IBMDeveloperSkillsNetwork-ST0151EN-SkillsNetwork/labs/boston_housing.csv'\nresp = await fetch(URL)\nboston_url = io.BytesIO((await resp.arrayBuffer()).to_py())",
      "metadata": {
        "trusted": true
      },
      "outputs": [],
      "execution_count": null
    },
    {
      "cell_type": "code",
      "source": "boston_df=pd.read_csv(boston_url)",
      "metadata": {
        "trusted": true
      },
      "outputs": [],
      "execution_count": null
    },
    {
      "cell_type": "markdown",
      "source": "#### Add your code below following the instructions given in the course to complete the peer graded assignment\n",
      "metadata": {}
    },
    {
      "cell_type": "markdown",
      "source": "#### Task 1: Become familiar with the dataset\n##### DATA DESCRIPTION:\n\n·      CRIM - per capita crime rate by town \n\n·      ZN - proportion of residential land zoned for lots over 25,000 sq.ft.\n\n·      INDUS - proportion of non-retail business acres per town.\n\n·      CHAS - Charles River dummy variable (1 if tract bounds river; 0 otherwise)\n\n·      NOX - nitric oxides concentration (parts per 10 million)\n\n·      RM - average number of rooms per dwelling\n\n·      AGE - proportion of owner-occupied units built prior to 1940\n\n·      DIS - weighted distances to five Boston employment centres\n\n·      RAD - index of accessibility to radial highways\n\n·      TAX - full-value property-tax rate per $10,000\n\n·      PTRATIO - pupil-teacher ratio by town\n\n·      LSTAT - % lower status of the population\n\n·      MEDV - Median value of owner-occupied homes in $1000's\n\n",
      "metadata": {}
    },
    {
      "cell_type": "markdown",
      "source": "## Display information about dataset\n\nPrint first 5 rows of the data",
      "metadata": {}
    },
    {
      "cell_type": "code",
      "source": "boston_df.head()",
      "metadata": {
        "trusted": true
      },
      "outputs": [],
      "execution_count": null
    },
    {
      "cell_type": "markdown",
      "source": "Information of each variable",
      "metadata": {}
    },
    {
      "cell_type": "code",
      "source": "boston_df.info()",
      "metadata": {
        "trusted": true
      },
      "outputs": [],
      "execution_count": null
    },
    {
      "cell_type": "markdown",
      "source": "Number of rows and columns in dataset",
      "metadata": {}
    },
    {
      "cell_type": "code",
      "source": "boston_df.shape",
      "metadata": {
        "trusted": true
      },
      "outputs": [],
      "execution_count": null
    },
    {
      "cell_type": "markdown",
      "source": "##### Dataset is time series or cross sectional\n\nAs it is clear from above information about the dataset there is no time or date variable in the data hence the dataset is not time series. \n\nAs the data considers more than one house we will classify it as cross-sectional dataset.",
      "metadata": {}
    },
    {
      "cell_type": "markdown",
      "source": "##### Describe the dataset",
      "metadata": {}
    },
    {
      "cell_type": "code",
      "source": "boston_df.describe()",
      "metadata": {
        "trusted": true
      },
      "outputs": [],
      "execution_count": null
    },
    {
      "cell_type": "markdown",
      "source": "##### Task 2: Generate Descriptive Statistics and Visualizations",
      "metadata": {}
    },
    {
      "cell_type": "markdown",
      "source": "##### 1. For the \"Median value of owner-occupied homes\" provide a boxplot\n",
      "metadata": {}
    },
    {
      "cell_type": "code",
      "source": "ax = sns.boxplot(x=boston_df.MEDV)\nplt.title(\"Boxplot for MEDV\")\nplt.show()",
      "metadata": {
        "trusted": true
      },
      "outputs": [],
      "execution_count": null
    },
    {
      "cell_type": "markdown",
      "source": "Findings: We can see outliers after 3rd quartile",
      "metadata": {}
    },
    {
      "cell_type": "markdown",
      "source": "##### 2. Provide a  bar plot for the Charles river variable",
      "metadata": {}
    },
    {
      "cell_type": "code",
      "source": "ax = sns.barplot(x=boston_df.CHAS)\nplt.title(\"Barplot for CHAS\")\nplt.show()",
      "metadata": {
        "trusted": true
      },
      "outputs": [],
      "execution_count": null
    },
    {
      "cell_type": "markdown",
      "source": "Findings: Majority tracts dont bound charles river",
      "metadata": {}
    },
    {
      "cell_type": "markdown",
      "source": "##### 3. Provide a boxplot for the MEDV variable vs the AGE variable. (Discretize the age variable into three groups of 35 years and younger, between 35 and 70 years and 70 years and older)",
      "metadata": {}
    },
    {
      "cell_type": "code",
      "source": "boston_df.loc[(boston_df[\"AGE\"] <= 35),'age_division'] = '35 years and younger'\nboston_df.loc[(boston_df[\"AGE\"] > 35) & (boston_df[\"AGE\"]<70),'age_division'] = 'between 35 and 70 years'\nboston_df.loc[(boston_df[\"AGE\"] >= 70),'age_division'] = '70 years and older'\n\nax = sns.boxplot(x=boston_df.MEDV, y=boston_df.age_division)\nplt.title(\"Boxplot for MEDV variable vs the AGE variable\")\nplt.show()",
      "metadata": {
        "trusted": true
      },
      "outputs": [],
      "execution_count": null
    },
    {
      "cell_type": "markdown",
      "source": "Finding: 35 years or younger group pays the highest median house price and it decreases as we move towards 70 years and older",
      "metadata": {}
    },
    {
      "cell_type": "markdown",
      "source": "##### 4. Provide a scatter plot to show the relationship between Nitric oxide concentrations and the proportion of non-retail business acres per town. What can you say about the relationship?",
      "metadata": {}
    },
    {
      "cell_type": "code",
      "source": "ax = sns.scatterplot(x=boston_df.NOX, y=boston_df.INDUS)\nplt.title(\"Relationship between NOX and INDUS\")\nplt.show()",
      "metadata": {
        "trusted": true
      },
      "outputs": [],
      "execution_count": null
    },
    {
      "cell_type": "markdown",
      "source": "Findings: Linear relation till NOX ~= 0.6 and becomes static between 15-20 INDUS later",
      "metadata": {}
    },
    {
      "cell_type": "markdown",
      "source": "##### 5. Create a histogram for the pupil to teacher ratio variable",
      "metadata": {}
    },
    {
      "cell_type": "code",
      "source": "ax = sns.distplot(a=boston_df.PTRATIO,bins=10, kde=False)\nplt.title(\"Histogram for the pupil to teacher ratio variable\")\nplt.show()",
      "metadata": {
        "trusted": true
      },
      "outputs": [],
      "execution_count": null
    },
    {
      "cell_type": "markdown",
      "source": "Findings: Lowest arond 14 and highest arount 20-21",
      "metadata": {}
    },
    {
      "cell_type": "markdown",
      "source": "##### TASK 3",
      "metadata": {}
    },
    {
      "cell_type": "markdown",
      "source": "##### Is there a significant difference in median value of houses bounded by the Charles river or not? (T-test for independent samples)\n\nNull Hypothesis: Both average MEDV are the same\n\nAlternative Hypothesis: Both average MEDV are NOT the same",
      "metadata": {}
    },
    {
      "cell_type": "code",
      "source": "scipy.stats.ttest_ind(boston_df[boston_df[\"CHAS\"] == 0][\"MEDV\"],boston_df[boston_df[\"CHAS\"] == 1][\"MEDV\"],axis=0,equal_var=True)",
      "metadata": {
        "trusted": true
      },
      "outputs": [],
      "execution_count": null
    },
    {
      "cell_type": "markdown",
      "source": "Finding : p-value more than alpha value of 0.05, we failed to reject null hypothesis since there is NO statistical significance",
      "metadata": {}
    },
    {
      "cell_type": "markdown",
      "source": "##### Is there a difference in Median values of houses (MEDV) for each proportion of owner occupied units built prior to 1940 (AGE)? (ANOVA)\n\n Null Hypothesis: the three population means are equal\n \n Alternative Hypothesis: At least one of the means differ",
      "metadata": {}
    },
    {
      "cell_type": "code",
      "source": "low = boston_df[boston_df[\"age_division\"] == '35 years and younger'][\"MEDV\"]\nmid = boston_df[boston_df[\"age_division\"] == 'between 35 and 70 years'][\"MEDV\"]\nhigh = boston_df[boston_df[\"age_division\"] == '70 years and older'][\"MEDV\"]",
      "metadata": {
        "trusted": true
      },
      "outputs": [],
      "execution_count": null
    },
    {
      "cell_type": "code",
      "source": "scipy.stats.f_oneway(low,mid,high,axis=0)",
      "metadata": {
        "trusted": true
      },
      "outputs": [],
      "execution_count": null
    },
    {
      "cell_type": "markdown",
      "source": "Findings : Since p-value more than alpha value of 0.05, we failed to reject null hypothesis since there is NO statistical significance.",
      "metadata": {}
    },
    {
      "cell_type": "markdown",
      "source": "##### Can we conclude that there is no relationship between Nitric oxide concentrations and proportion of non-retail business acres per town? (Pearson Correlation)\nNull Hypothesis: NOX is not correlated with INDUS\n\nAlternative Hypothesis: NOX is correlated with INDUS",
      "metadata": {}
    },
    {
      "cell_type": "code",
      "source": "scipy.stats.pearsonr(boston_df[\"NOX\"],boston_df[\"INDUS\"])",
      "metadata": {
        "trusted": true
      },
      "outputs": [],
      "execution_count": null
    },
    {
      "cell_type": "markdown",
      "source": "Findings : p-value < 0.05, we reject the Null hypothesis and conclude that there exists a relationship between Nitric Oxide and non-retail business acres per town.",
      "metadata": {}
    },
    {
      "cell_type": "markdown",
      "source": "##### What is the impact of an additional weighted distance  to the five Boston employment centres on the median value of owner occupied homes? (Regression analysis)\n\nNull Hypothesis: weighted distances to five Boston employment centres are not related to median value\n\nAlternative Hypothesis: weighted distances to five Boston employment centres are related to median value",
      "metadata": {}
    },
    {
      "cell_type": "code",
      "source": "results = sm.OLS(boston_df['MEDV'],sm.add_constant(boston_df['DIS'])).fit()\nresults.summary()",
      "metadata": {
        "trusted": true
      },
      "outputs": [],
      "execution_count": null
    },
    {
      "cell_type": "code",
      "source": "import numpy as np\nnp.sqrt(0.062)",
      "metadata": {
        "trusted": true
      },
      "outputs": [],
      "execution_count": null
    },
    {
      "cell_type": "markdown",
      "source": "Findings: The square root of R-squared is 0.24899799195977465, which implies weak correlation between both features",
      "metadata": {}
    }
  ]
}